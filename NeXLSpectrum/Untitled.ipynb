{
 "cells": [
  {
   "cell_type": "markdown",
   "metadata": {},
   "source": [
    "# Pyrite Peak-to-Background Study\n",
    "\n",
    "Study how the peak to background varies for Fe K & L and S K lines in pyrite fragments."
   ]
  },
  {
   "cell_type": "code",
   "execution_count": null,
   "metadata": {},
   "outputs": [
    {
     "name": "stderr",
     "output_type": "stream",
     "text": [
      "┌ Info: Precompiling NeXLUncertainties [7127f3d6-1721-46bc-bb38-8fc703dd438e]\n",
      "└ @ Base loading.jl:1242\n",
      "┌ Info: Precompiling NeXLCore [93a0284f-3680-435e-8d39-dd6e52a1dbc8]\n",
      "└ @ Base loading.jl:1242\n"
     ]
    }
   ],
   "source": [
    "using NeXLUncertainties\n",
    "using NeXLCore\n",
    "using NeXLSpectrum\n",
    "using DataFrames"
   ]
  },
  {
   "cell_type": "code",
   "execution_count": null,
   "metadata": {},
   "outputs": [],
   "source": [
    "path = \"K412 spectra\"\n",
    "fe = readEMSA(\"$(path)/Fe std.msa\")\n",
    "det = matching(fe, 132.0, 10)\n",
    "unks = (i->readEMSA(\"$(path)/III-E K412[$i][4].msa\",det,true)).(0:4)\n",
    "al2o3 = readEMSA(\"$(path)/Al2O3 std.msa\",det,true)\n",
    "caf2 = readEMSA(\"$(path)/CaF2 std.msa\",det,true)\n",
    "fe = readEMSA(\"$(path)/Fe std.msa\",det,true)\n",
    "mgo = readEMSA(\"$(path)/MgO std.msa\",det,true)\n",
    "sio2 = readEMSA(\"$(path)/SiO2 std.msa\",det,true)\n",
    "asa(DataFrame, Spectrum[unks..., al2o3, caf2, fe, mgo, sio2])"
   ]
  }
 ],
 "metadata": {
  "kernelspec": {
   "display_name": "Julia 1.2.0",
   "language": "julia",
   "name": "julia-1.2"
  },
  "language_info": {
   "file_extension": ".jl",
   "mimetype": "application/julia",
   "name": "julia",
   "version": "1.2.0"
  }
 },
 "nbformat": 4,
 "nbformat_minor": 2
}
