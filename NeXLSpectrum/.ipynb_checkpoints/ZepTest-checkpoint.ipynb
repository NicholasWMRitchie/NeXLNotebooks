{
 "cells": [
  {
   "cell_type": "markdown",
   "metadata": {},
   "source": [
    "## NeXLParticle\n",
    "\n",
    "This example shows how to use NeXLParticle and the 'Zeppelin' struct to load Zeppelin particle data sets and access the tabular, image and spectral data."
   ]
  },
  {
   "cell_type": "code",
   "execution_count": 1,
   "metadata": {},
   "outputs": [
    {
     "name": "stderr",
     "output_type": "stream",
     "text": [
      "┌ Info: Precompiling Gadfly [c91e804a-d5a3-530f-b6f0-dfbca275c004]\n",
      "└ @ Base loading.jl:1273\n",
      "┌ Info: Loading DataFrames support into Gadfly.jl\n",
      "└ @ Gadfly C:\\Users\\nritchie\\.julia\\packages\\Gadfly\\09PWZ\\src\\mapping.jl:228\n",
      "┌ Info: Loading NeXLSpectrum Gadfly support\n",
      "└ @ NeXLSpectrum C:\\Users\\nritchie\\.julia\\dev\\NeXLSpectrum\\src\\gadflysupport.jl:338\n"
     ]
    }
   ],
   "source": [
    "using Revise\n",
    "using NeXLParticle\n",
    "using NeXLSpectrum\n",
    "using Gadfly\n",
    "using DataFrames\n",
    "using Images"
   ]
  },
  {
   "cell_type": "code",
   "execution_count": 2,
   "metadata": {},
   "outputs": [
    {
     "ename": "SystemError",
     "evalue": "SystemError: opening file \"Zepellin\\\\test.hdz\": No such file or directory",
     "output_type": "error",
     "traceback": [
      "SystemError: opening file \"Zepellin\\\\test.hdz\": No such file or directory",
      "",
      "Stacktrace:",
      " [1] #systemerror#44(::Nothing, ::typeof(systemerror), ::String, ::Bool) at .\\error.jl:134",
      " [2] systemerror at .\\error.jl:134 [inlined]",
      " [3] #open#512(::Nothing, ::Nothing, ::Nothing, ::Nothing, ::Nothing, ::typeof(open), ::String) at .\\iostream.jl:254",
      " [4] open at .\\iostream.jl:246 [inlined]",
      " [5] #open#271(::Base.Iterators.Pairs{Union{},Union{},Tuple{},NamedTuple{(),Tuple{}}}, ::typeof(open), ::Base.var\"#292#293\"{Base.Iterators.Pairs{Union{},Union{},Tuple{},NamedTuple{(),Tuple{}}}}, ::String) at .\\io.jl:296",
      " [6] open at .\\io.jl:296 [inlined]",
      " [7] #readlines#291 at .\\io.jl:494 [inlined]",
      " [8] readlines at .\\io.jl:494 [inlined]",
      " [9] loadZep(::String) at C:\\Users\\nritchie\\.julia\\dev\\NeXLParticle\\src\\zeppelin.jl:89",
      " [10] Zeppelin(::String) at C:\\Users\\nritchie\\.julia\\dev\\NeXLParticle\\src\\zeppelin.jl:14",
      " [11] top-level scope at In[2]:1"
     ]
    }
   ],
   "source": [
    "zep=Zeppelin(\"Zepellin\\\\test.hdz\")"
   ]
  },
  {
   "cell_type": "code",
   "execution_count": 3,
   "metadata": {},
   "outputs": [
    {
     "ename": "UndefVarError",
     "evalue": "UndefVarError: zep not defined",
     "output_type": "error",
     "traceback": [
      "UndefVarError: zep not defined",
      "",
      "Stacktrace:",
      " [1] top-level scope at In[3]:2"
     ]
    }
   ],
   "source": [
    "ENV[\"columns\"]=240\n",
    "zep.data[1:10, [:NUMBER, :DAVG, :CLASSNAME, :FIRSTELM, :FIRSTPCT, :SECONDELM, :SECONDPCT, :THIRDELM, :THIRDPCT, :FOURTHELM, :FOURTHPCT ]]"
   ]
  },
  {
   "cell_type": "code",
   "execution_count": 4,
   "metadata": {},
   "outputs": [
    {
     "ename": "UndefVarError",
     "evalue": "UndefVarError: zep not defined",
     "output_type": "error",
     "traceback": [
      "UndefVarError: zep not defined",
      "",
      "Stacktrace:",
      " [1] top-level scope at In[4]:2"
     ]
    }
   ],
   "source": [
    "set_default_plot_size(10inch,4inch)\n",
    "s=zep[103]\n",
    "imgs = s[:Image]\n",
    "plot(s,xmax=1.0e4, autoklms=true)"
   ]
  },
  {
   "cell_type": "code",
   "execution_count": 5,
   "metadata": {},
   "outputs": [
    {
     "ename": "UndefVarError",
     "evalue": "UndefVarError: imgs not defined",
     "output_type": "error",
     "traceback": [
      "UndefVarError: imgs not defined",
      "",
      "Stacktrace:",
      " [1] top-level scope at In[5]:1"
     ]
    }
   ],
   "source": [
    "[imgs[:,:,1] imgs[:,:,2]]"
   ]
  },
  {
   "cell_type": "code",
   "execution_count": 6,
   "metadata": {},
   "outputs": [
    {
     "ename": "UndefVarError",
     "evalue": "UndefVarError: s not defined",
     "output_type": "error",
     "traceback": [
      "UndefVarError: s not defined",
      "",
      "Stacktrace:",
      " [1] top-level scope at In[6]:1"
     ]
    }
   ],
   "source": [
    "s[:StagePosition]"
   ]
  },
  {
   "cell_type": "code",
   "execution_count": 7,
   "metadata": {},
   "outputs": [
    {
     "ename": "SystemError",
     "evalue": "SystemError: opening file \"Zepellin\\\\Standards\\\\Ag std.msa\": No such file or directory",
     "output_type": "error",
     "traceback": [
      "SystemError: opening file \"Zepellin\\\\Standards\\\\Ag std.msa\": No such file or directory",
      "",
      "Stacktrace:",
      " [1] #systemerror#44(::Nothing, ::typeof(systemerror), ::String, ::Bool) at .\\error.jl:134",
      " [2] systemerror at .\\error.jl:134 [inlined]",
      " [3] #open#512(::Nothing, ::Nothing, ::Nothing, ::Nothing, ::Nothing, ::typeof(open), ::String) at .\\iostream.jl:254",
      " [4] open at .\\iostream.jl:246 [inlined]",
      " [5] #open#271(::Base.Iterators.Pairs{Union{},Union{},Tuple{},NamedTuple{(),Tuple{}}}, ::typeof(open), ::NeXLSpectrum.var\"#57#58\"{DataType}, ::String) at .\\io.jl:296",
      " [6] open at .\\io.jl:296 [inlined]",
      " [7] readEMSA at C:\\Users\\nritchie\\.julia\\dev\\NeXLSpectrum\\src\\emsa.jl:59 [inlined] (repeats 2 times)",
      " [8] (::var\"#3#4\")(::Element) at .\\none:0",
      " [9] Dict{Element,Spectrum}(::Base.Generator{NTuple{33,Element},var\"#3#4\"}) at .\\generator.jl:47",
      " [10] top-level scope at In[7]:3"
     ]
    }
   ],
   "source": [
    "elms = ( n\"Ag\", n\"Al\", n\"Ba\", n\"Bi\", n\"Br\", n\"C\", n\"Ca\", n\"Ce\", n\"Cl\", n\"Co\", n\"Cr\", n\"Cu\", n\"F\", n\"Fe\", n\"K\", n\"Mg\", n\"Mn\", n\"Na\", n\"Nd\", n\"Ni\", \n",
    "    n\"O\", n\"P\", n\"Pb\", n\"S\", n\"Sb\", n\"Si\", n\"Sn\", n\"Sr\", n\"Ti\", n\"V\", n\"W\", n\"Zn\", n\"Zr\" )\n",
    "refs = Dict{Element,Spectrum}( elm => readEMSA(\"Zepellin\\\\Standards\\\\$(elm.symbol) std.msa\") for elm in elms);"
   ]
  },
  {
   "cell_type": "code",
   "execution_count": 8,
   "metadata": {},
   "outputs": [
    {
     "ename": "UndefVarError",
     "evalue": "UndefVarError: refs not defined",
     "output_type": "error",
     "traceback": [
      "UndefVarError: refs not defined",
      "",
      "Stacktrace:",
      " [1] top-level scope at In[8]:1"
     ]
    }
   ],
   "source": [
    "det = matching(refs[n\"Fe\"],132.0)"
   ]
  },
  {
   "cell_type": "code",
   "execution_count": 9,
   "metadata": {},
   "outputs": [
    {
     "ename": "UndefVarError",
     "evalue": "UndefVarError: zep not defined",
     "output_type": "error",
     "traceback": [
      "UndefVarError: zep not defined",
      "",
      "Stacktrace:",
      " [1] top-level scope at util.jl:155",
      " [2] top-level scope at In[9]:1"
     ]
    }
   ],
   "source": [
    "@time res2=NeXLParticle.quantify(zep, det, refs);"
   ]
  },
  {
   "cell_type": "code",
   "execution_count": 10,
   "metadata": {},
   "outputs": [
    {
     "ename": "UndefVarError",
     "evalue": "UndefVarError: res2 not defined",
     "output_type": "error",
     "traceback": [
      "UndefVarError: res2 not defined",
      "",
      "Stacktrace:",
      " [1] top-level scope at In[10]:1"
     ]
    }
   ],
   "source": [
    "res2[102:112,17:end]"
   ]
  },
  {
   "cell_type": "code",
   "execution_count": 11,
   "metadata": {},
   "outputs": [
    {
     "data": {
      "text/plain": [
       "4"
      ]
     },
     "execution_count": 11,
     "metadata": {},
     "output_type": "execute_result"
    }
   ],
   "source": [
    "Threads.nthreads()"
   ]
  },
  {
   "cell_type": "markdown",
   "metadata": {},
   "source": [
    "Things to add\n",
    "  - Plot multiple rows from a zep\n",
    "  - Add image scales\n",
    "  - Add multi-images to left of plot\n",
    "  - Row filters\n",
    "  - Columns sorting\n",
    "  - Optimize signature"
   ]
  },
  {
   "cell_type": "code",
   "execution_count": 12,
   "metadata": {},
   "outputs": [
    {
     "data": {
      "text/plain": [
       "quantify2 (generic function with 2 methods)"
      ]
     },
     "execution_count": 12,
     "metadata": {},
     "output_type": "execute_result"
    }
   ],
   "source": [
    "using TimerOutputs\n",
    "\n",
    "function quantify2(\n",
    "    zep::Zeppelin,\n",
    "    det::Detector,\n",
    "    refs::Dict{Element,Spectrum},\n",
    "    rows::Union{Vector{Int},UnitRange{Int}}=1:1000000;\n",
    "    strip::Vector{Element} = [n\"C\"], # Element to not include in table\n",
    "    special::Vector{Element} = [n\"O\"], # Element for special treatment in signature\n",
    "    cullRule::NeXLParticle.CullingRule = NeXLParticle.NSigmaCulling(3.0),\n",
    ")\n",
    "    rows = ismissing(rows) ? eachparticle(zep) : rows\n",
    "    # Build the filtered references\n",
    "    filt = buildfilter(NeXLSpectrum.GaussianFilter, det)\n",
    "    filtrefs = FilteredReference[]\n",
    "    e0, toa = NaN64, NaN64\n",
    "    for elm in keys(refs)\n",
    "        lines = ktransitions\n",
    "        if elm > n\"Ca\"\n",
    "            lines = union(ktransitions, ltransitions)\n",
    "        elseif elm > n\"Ba\"\n",
    "            lines = union(ltransitions, mtransitions)\n",
    "        end\n",
    "        cfs = NeXLSpectrum.charFeature(elm, Tuple(lines), maxE = 0.9 * refs[elm][:BeamEnergy])\n",
    "        fr = filter(refs[elm], det, cfs, filt, 1.0 / dose(refs[elm]))\n",
    "        append!(filtrefs, fr)\n",
    "        e0, toa = refs[elm][:BeamEnergy], refs[elm][:TakeOffAngle]\n",
    "    end\n",
    "    # Create a list of columns (by element)\n",
    "    newcols = sort(collect(filter(elm -> !(elm in strip), keys(refs))))\n",
    "    quant = zeros(UncertainValue, size(zep.data, 1), length(newcols))\n",
    "    to = TimerOutput()\n",
    "    # quantify and tabulate each particle\n",
    "    for row in intersect(eachparticle(zep),rows)\n",
    "        @timeit to \"unk = spec\" unk = spectrum(zep, row, false)\n",
    "        if !ismissing(unk)\n",
    "            # Particle spectra are often missing critical data items...\n",
    "            unk[:ProbeCurrent], unk[:LiveTime] = get(unk, :ProbeCurrent, 1.0), get(unk, :LiveTime, 1.0)\n",
    "            unk[:BeamEnergy], unk[:TakeOffAngle] = get(unk, :BeamEnergy, e0), get(unk, :TakeOffAngle, toa)\n",
    "            @timeit to \"fit(..)\" res = fit(FilteredUnknownW, unk, filt, filtrefs, true)\n",
    "            @timeit to \"cull\" culled = map(kr -> NeXLParticle.cull(cullRule, kr), NeXLParticle.askratios(res))\n",
    "            @timeit to \"filter\" krv = filter(kr -> !(kr.element in strip), culled)\n",
    "            @timeit to \"sig\" sig = NeXLParticle.signature(krv, special)\n",
    "            @timeit to  \"quant[]\" quant[row, :] =  [ 100.0 * sig[elm] for elm in newcols ]\n",
    "        else\n",
    "            quant[row, :] = [ missing for _ in eachindex(newcols) ]\n",
    "        end\n",
    "    end\n",
    "    @timeit to \"quantRes\" quantRes = DataFrame((convert(Symbol, elm) => quant[:, i] for (i, elm) in enumerate(newcols))...)\n",
    "    show(to)\n",
    "    # First, strip out all old elemental data items\n",
    "    if false\n",
    "        removeme = map(elm -> convert(Symbol, elm), zep.elms)\n",
    "        append!(removeme, COMPOSITIONAL_COLUMNS)\n",
    "        append!(removeme, CLASS_COLUMNS)\n",
    "        remaining = copy(zep.data[:, filter(f -> !(f in removeme), names(zep.data))])\n",
    "        return hcat(remaining, quantRes)\n",
    "    else\n",
    "        return quantRes\n",
    "    end\n",
    "end"
   ]
  },
  {
   "cell_type": "code",
   "execution_count": 13,
   "metadata": {},
   "outputs": [
    {
     "ename": "UndefVarError",
     "evalue": "UndefVarError: zep not defined",
     "output_type": "error",
     "traceback": [
      "UndefVarError: zep not defined",
      "",
      "Stacktrace:",
      " [1] top-level scope at In[13]:1"
     ]
    }
   ],
   "source": [
    "res2=quantify2(zep, det, refs);"
   ]
  },
  {
   "cell_type": "code",
   "execution_count": 14,
   "metadata": {},
   "outputs": [
    {
     "ename": "UndefVarError",
     "evalue": "UndefVarError: res2 not defined",
     "output_type": "error",
     "traceback": [
      "UndefVarError: res2 not defined",
      "",
      "Stacktrace:",
      " [1] top-level scope at In[14]:1"
     ]
    }
   ],
   "source": [
    "res2[102:112,1:17]"
   ]
  },
  {
   "cell_type": "code",
   "execution_count": null,
   "metadata": {},
   "outputs": [],
   "source": []
  }
 ],
 "metadata": {
  "@webio": {
   "lastCommId": null,
   "lastKernelId": null
  },
  "kernelspec": {
   "display_name": "Julia 1.3.0 1.3.0",
   "language": "julia",
   "name": "julia-1.3.0-1.3"
  },
  "language_info": {
   "file_extension": ".jl",
   "mimetype": "application/julia",
   "name": "julia",
   "version": "1.3.0"
  }
 },
 "nbformat": 4,
 "nbformat_minor": 4
}
