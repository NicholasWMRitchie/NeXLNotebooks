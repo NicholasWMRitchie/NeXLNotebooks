{
 "cells": [
  {
   "cell_type": "markdown",
   "metadata": {},
   "source": [
    "# Using NeXLCore"
   ]
  },
  {
   "cell_type": "markdown",
   "metadata": {},
   "source": [
    "NeXLCore serves as the microanalytical foundation on which the NeXL microanalysis libraries depend for elemental and atomic data and algorithms."
   ]
  },
  {
   "cell_type": "code",
   "execution_count": 1,
   "metadata": {},
   "outputs": [],
   "source": [
    "using Revise\n",
    "using NeXLCore"
   ]
  },
  {
   "cell_type": "markdown",
   "metadata": {},
   "source": [
    "Singleton structures representing the elements are readily accessed various mechanisms."
   ]
  },
  {
   "cell_type": "code",
   "execution_count": 2,
   "metadata": {},
   "outputs": [
    {
     "data": {
      "text/plain": [
       "(Element(Iron), Element(Nickel), Element(Chromium))"
      ]
     },
     "execution_count": 2,
     "metadata": {},
     "output_type": "execute_result"
    }
   ],
   "source": [
    "elms = ( n\"Fe\", n\"Ni\", elements[24] )"
   ]
  },
  {
   "cell_type": "markdown",
   "metadata": {},
   "source": [
    "The `Element` structure carries various different properties of the element.  For example, `elms[1]` represents iron with associated data:"
   ]
  },
  {
   "cell_type": "code",
   "execution_count": 3,
   "metadata": {},
   "outputs": [
    {
     "data": {
      "text/html": [
       "<style>\n",
       "th{text-align:right; padding:5px;}td{text-align:left; padding:5px}\n",
       "</style>\n",
       "Iron (Fe), number 26:\n",
       "<table>\n",
       "<tr><th>category</th><td>transition metal</td></tr>\n",
       "<tr><th>atomic mass</th><td>55.8452 u</td></tr>\n",
       "<tr><th>density</th><td>7.874 g/cm³</td></tr>\n",
       "<tr><th>molar heat</th><td>25.1 J/mol⋅K</td></tr>\n",
       "<tr><th>melting point</th><td>1811.0 K</td></tr>\n",
       "<tr><th>boiling point</th><td>3134.0 K</td></tr>\n",
       "<tr><th>phase</th><td>Solid</td></tr>\n",
       "<tr><th>shells</th><td>[2, 8, 14, 2]</td></tr>\n",
       "<tr><th>electron configuration</th><td>1s² 2s² 2p⁶ 3s² 3p⁶ 4s² 3d⁶</td></tr>\n",
       "<tr><th>appearance</th><td>lustrous metallic with a grayish tinge</td></tr>\n",
       "<tr><th>summary</th><td>Iron is a chemical element with symbol Fe (from Latin:ferrum) and atomic number 26. It is a metal in the first transition series. It is by mass the most common element on Earth, forming much of Earth's outer and inner core.</td></tr>\n",
       "<tr><th>discovered by</th><td>5000 BC</td></tr>\n",
       "<tr><th>source</th><td><a href=\"https://en.wikipedia.org/wiki/Iron\">https://en.wikipedia.org/wiki/Iron</a></td></tr>\n",
       "</table>\n",
       "<img src=\"https://commons.wikimedia.org/w/index.php?title=Special:Redirect/file/Iron_Spectrum.jpg&width=500\" alt=\"Iron_Spectrum.jpg\">\n"
      ],
      "text/plain": [
       "Iron (Fe), number 26:\n",
       "        category: transition metal\n",
       "     atomic mass: 55.8452 u\n",
       "         density: 7.874 g/cm³\n",
       "      molar heat: 25.1 J/mol⋅K\n",
       "   melting point: 1811.0 K\n",
       "   boiling point: 3134.0 K\n",
       "           phase: Solid\n",
       "          shells: [2, 8, 14, 2]\n",
       "e⁻-configuration: 1s² 2s² 2p⁶ 3s² 3p⁶ 4s² 3d⁶\n",
       "      appearance: lustrous metallic with a grayish tinge\n",
       "         summary: Iron is a chemical element with symbol Fe (from Latin:ferrum) and atomic number 26. It is a metal in the first transition series. It is by mass the most common element on Earth, forming much of Earth's outer and inner core.\n",
       "   discovered by: 5000 BC\n",
       "          source: https://en.wikipedia.org/wiki/Iron\n",
       "  spectral image: https://en.wikipedia.org/wiki/File:Iron_Spectrum.jpg\n"
      ]
     },
     "execution_count": 3,
     "metadata": {},
     "output_type": "execute_result"
    }
   ],
   "source": [
    "elms[1]"
   ]
  },
  {
   "cell_type": "markdown",
   "metadata": {},
   "source": [
    "NeXLCore has structs to represent sub-shells."
   ]
  },
  {
   "cell_type": "code",
   "execution_count": 4,
   "metadata": {},
   "outputs": [
    {
     "data": {
      "text/plain": [
       "(K, L1, M3)"
      ]
     },
     "execution_count": 4,
     "metadata": {},
     "output_type": "execute_result"
    }
   ],
   "source": [
    "subshells = ( n\"K1\", n\"L1\", n\"M3\" )  # Where the K shell must be specified as K1 so as not to be confused with potassium."
   ]
  },
  {
   "cell_type": "code",
   "execution_count": 5,
   "metadata": {},
   "outputs": [
    {
     "data": {
      "text/plain": [
       "SubShell"
      ]
     },
     "execution_count": 5,
     "metadata": {},
     "output_type": "execute_result"
    }
   ],
   "source": [
    "typeof(subshells[1])"
   ]
  },
  {
   "cell_type": "code",
   "execution_count": 6,
   "metadata": {},
   "outputs": [
    {
     "data": {
      "text/plain": [
       "('K', 'L', 'M')"
      ]
     },
     "execution_count": 6,
     "metadata": {},
     "output_type": "execute_result"
    }
   ],
   "source": [
    "shell.(subshells) # Represents the shell or family (K, L, M, N etc)"
   ]
  },
  {
   "cell_type": "code",
   "execution_count": 7,
   "metadata": {},
   "outputs": [
    {
     "data": {
      "text/plain": [
       "4-element Array{Tuple{SubShell,Vararg{SubShell,N} where N},1}:\n",
       " (K,)                        \n",
       " (L1, L2, L3)                \n",
       " (M1, M2, M3, M4, M5)        \n",
       " (N1, N2, N3, N4, N5, N6, N7)"
      ]
     },
     "execution_count": 7,
     "metadata": {},
     "output_type": "execute_result"
    }
   ],
   "source": [
    "[ ksubshells, lsubshells, msubshells, nsubshells ]  # There are lists available of each shell's subshells."
   ]
  },
  {
   "cell_type": "code",
   "execution_count": 8,
   "metadata": {},
   "outputs": [
    {
     "data": {
      "text/plain": [
       "(K, L1, L2, L3, M1, M2, M3, M4, M5, N1, N2, N3, N4, N5, N6, N7, O1, O2, O3, O4, O5, O6, O7, O8, O9, P1, P2, P3, P4, P5, P6, P7, P8, P9, P10, P11, Q1, Q2, Q3)"
      ]
     },
     "execution_count": 8,
     "metadata": {},
     "output_type": "execute_result"
    }
   ],
   "source": [
    "allsubshells  # Represents all sub-shells for which there is data in NeXLCore"
   ]
  },
  {
   "cell_type": "code",
   "execution_count": 9,
   "metadata": {},
   "outputs": [
    {
     "data": {
      "text/plain": [
       "(2, 2, 2, 4, 2, 2, 4, 4, 6, 2, 2, 4, 4, 6, 6, 8, 2, 2, 4, 4, 6, 6, 8, 8, 10, 2, 2, 4, 4, 6, 6, 8, 8, 10, 10, 12, 2, 2, 4)"
      ]
     },
     "execution_count": 9,
     "metadata": {},
     "output_type": "execute_result"
    }
   ],
   "source": [
    "capacity.(allsubshells)  # How many electrons can be placed in this shell"
   ]
  },
  {
   "cell_type": "code",
   "execution_count": 10,
   "metadata": {},
   "outputs": [
    {
     "data": {
      "text/plain": [
       "(1, 2, 2, 2, 3, 3, 3, 3, 3, 4, 4, 4, 4, 4, 4, 4, 5, 5, 5, 5, 5, 5, 5, 5, 5, 6, 6, 6, 6, 6, 6, 6, 6, 6, 6, 6, 7, 7, 7)"
      ]
     },
     "execution_count": 10,
     "metadata": {},
     "output_type": "execute_result"
    }
   ],
   "source": [
    "NeXLCore.n.(allsubshells) # Principle quantum number"
   ]
  },
  {
   "cell_type": "code",
   "execution_count": 11,
   "metadata": {},
   "outputs": [
    {
     "data": {
      "text/plain": [
       "(0, 0, 1, 1, 0, 1, 1, 2, 2, 0, 1, 1, 2, 2, 3, 3, 0, 1, 1, 2, 2, 3, 3, 4, 4, 0, 1, 1, 2, 2, 3, 3, 4, 4, 5, 5, 0, 1, 1)"
      ]
     },
     "execution_count": 11,
     "metadata": {},
     "output_type": "execute_result"
    }
   ],
   "source": [
    "NeXLCore.l.(allsubshells) # Orbital angular momentum quantum number"
   ]
  },
  {
   "cell_type": "code",
   "execution_count": 12,
   "metadata": {},
   "outputs": [
    {
     "data": {
      "text/plain": [
       "(1//2, 1//2, 1//2, 3//2, 1//2, 1//2, 3//2, 3//2, 5//2, 1//2, 1//2, 3//2, 3//2, 5//2, 5//2, 7//2, 1//2, 1//2, 3//2, 3//2, 5//2, 5//2, 7//2, 7//2, 9//2, 1//2, 1//2, 3//2, 3//2, 5//2, 5//2, 7//2, 7//2, 9//2, 9//2, 11//2, 1//2, 1//2, 3//2)"
      ]
     },
     "execution_count": 12,
     "metadata": {},
     "output_type": "execute_result"
    }
   ],
   "source": [
    "NeXLCore.j.(allsubshells) # Total angular momentum quantum number"
   ]
  },
  {
   "cell_type": "markdown",
   "metadata": {},
   "source": [
    "A sub-shell is associated with a specific element in the `AtomicSubShell` struct. These too can be accessed using the `n\"..\"` syntax."
   ]
  },
  {
   "cell_type": "code",
   "execution_count": 13,
   "metadata": {},
   "outputs": [
    {
     "data": {
      "text/plain": [
       "(Fe K, Fe L1, Fe L2, Fe L3)"
      ]
     },
     "execution_count": 13,
     "metadata": {},
     "output_type": "execute_result"
    }
   ],
   "source": [
    "ironsubshells = ( n\"Fe K\", n\"Fe L1\", n\"Fe L2\", n\"Fe L3\" )"
   ]
  },
  {
   "cell_type": "code",
   "execution_count": 14,
   "metadata": {},
   "outputs": [
    {
     "data": {
      "text/plain": [
       "AtomicSubShell"
      ]
     },
     "execution_count": 14,
     "metadata": {},
     "output_type": "execute_result"
    }
   ],
   "source": [
    "typeof(ironsubshells[1])"
   ]
  },
  {
   "cell_type": "markdown",
   "metadata": {},
   "source": [
    "Using broadcast syntax to apply the `energy` function to each sub-shell in `ironshells`, we get the shell edge energy in eV for each sub-shell."
   ]
  },
  {
   "cell_type": "code",
   "execution_count": 15,
   "metadata": {},
   "outputs": [
    {
     "name": "stdout",
     "output_type": "stream",
     "text": [
      "AtomicSubShell\n",
      "  z: Int64 26\n",
      "  subshell: SubShell\n",
      "    index: Int64 1\n"
     ]
    }
   ],
   "source": [
    "dump(ironsubshells[1])  # Associates an atomic number with a SubShell."
   ]
  },
  {
   "cell_type": "markdown",
   "metadata": {},
   "source": [
    "The energy of the ionization edge can be accessed via the `energy(..)` function."
   ]
  },
  {
   "cell_type": "code",
   "execution_count": 16,
   "metadata": {},
   "outputs": [
    {
     "data": {
      "text/plain": [
       "(7112.0, 846.0999999999999, 721.0999999999999, 708.0999999999999)"
      ]
     },
     "execution_count": 16,
     "metadata": {},
     "output_type": "execute_result"
    }
   ],
   "source": [
    "energy.(ironsubshells)"
   ]
  },
  {
   "cell_type": "code",
   "execution_count": 17,
   "metadata": {},
   "outputs": [
    {
     "data": {
      "text/plain": [
       "(8.522703711382958, 1.1232912494558118, 1.4195272696901362, 6.34014793507294)"
      ]
     },
     "execution_count": 17,
     "metadata": {},
     "output_type": "execute_result"
    }
   ],
   "source": [
    "jumpratio.(ironsubshells)"
   ]
  },
  {
   "cell_type": "markdown",
   "metadata": {},
   "source": [
    "To determine whether an element has a sub-shell occupied in the ground atom..."
   ]
  },
  {
   "cell_type": "code",
   "execution_count": 18,
   "metadata": {},
   "outputs": [
    {
     "data": {
      "text/plain": [
       "(true, true, false)"
      ]
     },
     "execution_count": 18,
     "metadata": {},
     "output_type": "execute_result"
    }
   ],
   "source": [
    "has(n\"Fe\", n\"L3\"), has(n\"Fe\",n\"M5\"), has(n\"Fe\",n\"N1\")"
   ]
  },
  {
   "cell_type": "code",
   "execution_count": 19,
   "metadata": {},
   "outputs": [
    {
     "ename": "LoadError",
     "evalue": "The sub-shell N1 in Element(Iron) is not occupied in the ground state.",
     "output_type": "error",
     "traceback": [
      "The sub-shell N1 in Element(Iron) is not occupied in the ground state.",
      "",
      "Stacktrace:",
      " [1] error(::String) at .\\error.jl:33",
      " [2] AtomicSubShell(::Int64, ::SubShell) at C:\\Users\\nritchie\\.julia\\dev\\NeXLCore\\src\\shell.jl:164",
      " [3] atomicsubshell(::String) at C:\\Users\\nritchie\\.julia\\dev\\NeXLCore\\src\\parse.jl:78",
      " [4] parse at C:\\Users\\nritchie\\.julia\\dev\\NeXLCore\\src\\parse.jl:83 [inlined]",
      " [5] parsex(::String) at C:\\Users\\nritchie\\.julia\\dev\\NeXLCore\\src\\parse.jl:156",
      " [6] @n_str(::LineNumberNode, ::Module, ::Any) at C:\\Users\\nritchie\\.julia\\dev\\NeXLCore\\src\\parse.jl:16"
     ]
    }
   ],
   "source": [
    "n\"Fe N1\"  # Errors since has(n\"Fe\", n\"N1\") returns false..."
   ]
  },
  {
   "cell_type": "markdown",
   "metadata": {},
   "source": [
    "A vector of all `SubShell`s associated with iron sorted to place them in shell order."
   ]
  },
  {
   "cell_type": "code",
   "execution_count": 20,
   "metadata": {},
   "outputs": [
    {
     "data": {
      "text/plain": [
       "9-element Array{AtomicSubShell,1}:\n",
       " Fe K \n",
       " Fe L1\n",
       " Fe L2\n",
       " Fe L3\n",
       " Fe M1\n",
       " Fe M2\n",
       " Fe M3\n",
       " Fe M4\n",
       " Fe M5"
      ]
     },
     "execution_count": 20,
     "metadata": {},
     "output_type": "execute_result"
    }
   ],
   "source": [
    "fess = sort(atomicsubshells(n\"Fe\"))"
   ]
  },
  {
   "cell_type": "code",
   "execution_count": 21,
   "metadata": {},
   "outputs": [
    {
     "data": {
      "text/plain": [
       "8-element Array{AtomicSubShell,1}:\n",
       " Fe M5\n",
       " Fe M4\n",
       " Fe M3\n",
       " Fe M2\n",
       " Fe M1\n",
       " Fe L3\n",
       " Fe L2\n",
       " Fe L1"
      ]
     },
     "execution_count": 21,
     "metadata": {},
     "output_type": "execute_result"
    }
   ],
   "source": [
    "sort(atomicsubshells(n\"Fe\", 1.0e3), rev=true)  # A vector of all SubShell(s) associated with iron with edge energies less than 1 keV."
   ]
  },
  {
   "cell_type": "markdown",
   "metadata": {},
   "source": [
    "The ionization cross-section is computed using the Bote-Salvat algorithm.  The result is in cm<sup>2</sup> per atom."
   ]
  },
  {
   "cell_type": "code",
   "execution_count": 22,
   "metadata": {},
   "outputs": [
    {
     "data": {
      "text/plain": [
       "(5.022040903563145e-22, 2.141612233249487e-20, 3.5362305136650455e-20, 7.271371523810411e-20)"
      ]
     },
     "execution_count": 22,
     "metadata": {},
     "output_type": "execute_result"
    }
   ],
   "source": [
    "ionizationcrosssection.(ironsubshells, 12.0e3)"
   ]
  },
  {
   "cell_type": "code",
   "execution_count": 23,
   "metadata": {},
   "outputs": [
    {
     "data": {
      "text/plain": [
       "(2, 2, 2, 4)"
      ]
     },
     "execution_count": 23,
     "metadata": {},
     "output_type": "execute_result"
    }
   ],
   "source": [
    "capacity.(ironsubshells)"
   ]
  },
  {
   "cell_type": "code",
   "execution_count": 24,
   "metadata": {},
   "outputs": [
    {
     "data": {
      "text/plain": [
       "(8.522703711382958, 1.1232912494558118, 1.4195272696901362, 6.34014793507294)"
      ]
     },
     "execution_count": 24,
     "metadata": {},
     "output_type": "execute_result"
    }
   ],
   "source": [
    "jumpratio.(ironsubshells)"
   ]
  },
  {
   "cell_type": "markdown",
   "metadata": {},
   "source": [
    "The `relativeionizationcrosssection(..)` computes an approximate expression based of Pouchou and Pouchoir's 1991 (Green Book) expression for the ionization crosssection plus an additional factor for sub-shell capacity."
   ]
  },
  {
   "cell_type": "code",
   "execution_count": 25,
   "metadata": {},
   "outputs": [
    {
     "data": {
      "text/plain": [
       "(1.3190688732023249e-8, 8.420178239122687e-7, 1.07811256074423e-6, 2.2172667224188143e-6)"
      ]
     },
     "execution_count": 25,
     "metadata": {},
     "output_type": "execute_result"
    }
   ],
   "source": [
    "relativeionizationcrosssection.(ironsubshells, 12.0e3)"
   ]
  },
  {
   "cell_type": "code",
   "execution_count": 26,
   "metadata": {},
   "outputs": [
    {
     "data": {
      "text/plain": [
       "(0.33624214, 0.0013294700000000001, 0.001987981428571429, 0.0019462957142857141)"
      ]
     },
     "execution_count": 26,
     "metadata": {},
     "output_type": "execute_result"
    }
   ],
   "source": [
    "NeXLCore.fluorescenceyield.(ironsubshells)"
   ]
  },
  {
   "cell_type": "markdown",
   "metadata": {},
   "source": [
    "The `Transition` object describes a pair of `SubShell`s representing the inner and outer shell in an X-ray transition."
   ]
  },
  {
   "cell_type": "code",
   "execution_count": 27,
   "metadata": {},
   "outputs": [
    {
     "data": {
      "text/plain": [
       "L3-M5"
      ]
     },
     "execution_count": 27,
     "metadata": {},
     "output_type": "execute_result"
    }
   ],
   "source": [
    "Transition(n\"L3\",n\"M5\")"
   ]
  },
  {
   "cell_type": "markdown",
   "metadata": {},
   "source": [
    "When a `Transition` is associated with an `Element` it becomes a `CharXRay`.  The easiest way to construct the `CharXRay`s associated with a shell and element is the `characterisitic(...)` function and the tuples of transitions `ktransitions`, `kalpha`, `kbeta`, `kother`, `ltransitions`, `mtransitions`, `ntransitions`."
   ]
  },
  {
   "cell_type": "code",
   "execution_count": 28,
   "metadata": {},
   "outputs": [
    {
     "data": {
      "text/plain": [
       "12-element Array{CharXRay,1}:\n",
       " Fe L1-M2\n",
       " Fe L1-M3\n",
       " Fe L1-M4\n",
       " Fe L1-M5\n",
       " Fe L2-M1\n",
       " Fe L2-M3\n",
       " Fe L2-M4\n",
       " Fe L3-M1\n",
       " Fe L3-M2\n",
       " Fe L3-M3\n",
       " Fe L3-M4\n",
       " Fe L3-M5"
      ]
     },
     "execution_count": 28,
     "metadata": {},
     "output_type": "execute_result"
    }
   ],
   "source": [
    "characteristic(n\"Fe\",ltransitions)"
   ]
  },
  {
   "cell_type": "code",
   "execution_count": 29,
   "metadata": {},
   "outputs": [
    {
     "data": {
      "text/plain": [
       "0-element Array{CharXRay,1}"
      ]
     },
     "execution_count": 29,
     "metadata": {},
     "output_type": "execute_result"
    }
   ],
   "source": [
    "characteristic(n\"Fe\",ntransitions)"
   ]
  },
  {
   "cell_type": "markdown",
   "metadata": {},
   "source": [
    "You can also specify a minimum lineweight and a max energy to filter out those pesky weak lines."
   ]
  },
  {
   "cell_type": "code",
   "execution_count": 30,
   "metadata": {},
   "outputs": [
    {
     "data": {
      "text/plain": [
       "7-element Array{CharXRay,1}:\n",
       " Fe L1-M2\n",
       " Fe L1-M3\n",
       " Fe L2-M1\n",
       " Fe L2-M4\n",
       " Fe L3-M1\n",
       " Fe L3-M4\n",
       " Fe L3-M5"
      ]
     },
     "execution_count": 30,
     "metadata": {},
     "output_type": "execute_result"
    }
   ],
   "source": [
    "characteristic(n\"Fe\",ltransitions, 0.01, 1.0e3)"
   ]
  },
  {
   "cell_type": "markdown",
   "metadata": {},
   "source": [
    "You can test whether an element has a transition according to the internal database."
   ]
  },
  {
   "cell_type": "code",
   "execution_count": 31,
   "metadata": {},
   "outputs": [
    {
     "data": {
      "text/plain": [
       "(true, false)"
      ]
     },
     "execution_count": 31,
     "metadata": {},
     "output_type": "execute_result"
    }
   ],
   "source": [
    "has(n\"Fe\",n\"L3-M3\"), has(n\"Fe\",n\"M5-N3\")"
   ]
  },
  {
   "cell_type": "markdown",
   "metadata": {},
   "source": [
    "As before, the `n\"...\"` syntax can be used to construct valid characteristic X-rays.  The `weight(...)` function returns the relative line weight with 1.0 for the most intense line in a shell."
   ]
  },
  {
   "cell_type": "code",
   "execution_count": 32,
   "metadata": {},
   "outputs": [
    {
     "data": {
      "text/plain": [
       "(1.0, 0.0034624691684627413)"
      ]
     },
     "execution_count": 32,
     "metadata": {},
     "output_type": "execute_result"
    }
   ],
   "source": [
    "weight.((n\"Fe K-L3\", n\"Fe L3-M3\"))"
   ]
  },
  {
   "cell_type": "markdown",
   "metadata": {},
   "source": [
    "The `brightest(..)` function returns the most intense (readily visible) line within a family."
   ]
  },
  {
   "cell_type": "code",
   "execution_count": 33,
   "metadata": {},
   "outputs": [
    {
     "data": {
      "text/plain": [
       "Fe L3-M5"
      ]
     },
     "execution_count": 33,
     "metadata": {},
     "output_type": "execute_result"
    }
   ],
   "source": [
    "brightest(characteristic(n\"Fe\",ltransitions))"
   ]
  },
  {
   "cell_type": "markdown",
   "metadata": {},
   "source": [
    "The `strength(..)` function returns the fraction of ionizations of <code>inner(cxr)</code> that relax via a characteristic X-ray resulting\n",
    "from an electronic transition from <code>outer(cxr)</code> to <code>inner(cxr)</code>.\n"
   ]
  },
  {
   "cell_type": "code",
   "execution_count": 34,
   "metadata": {},
   "outputs": [
    {
     "data": {
      "text/plain": [
       "12-element Array{Float64,1}:\n",
       " 0.00014923082465751315\n",
       " 0.00022154575243410395\n",
       " 4.531045561712516e-7  \n",
       " 6.153271750473787e-7  \n",
       " 0.0002779543268413377 \n",
       " 4.423665333266718e-6  \n",
       " 0.0006755920000639005 \n",
       " 0.0005370757142857143 \n",
       " 4.57e-6               \n",
       " 4.45e-6               \n",
       " 0.00011499            \n",
       " 0.00128521            "
      ]
     },
     "execution_count": 34,
     "metadata": {},
     "output_type": "execute_result"
    }
   ],
   "source": [
    "strength.(characteristic(n\"Fe\",ltransitions))"
   ]
  },
  {
   "cell_type": "markdown",
   "metadata": {},
   "source": [
    "The `normWeight(...)` function returns the relative line weights normalized to unity over an atomic shell."
   ]
  },
  {
   "cell_type": "code",
   "execution_count": 35,
   "metadata": {},
   "outputs": [
    {
     "data": {
      "text/plain": [
       "([0.04555121533543911, 0.06762462312285882, 0.0001383056299192416, 0.00018782246038415526, 0.08484277577654839, 0.0013502795594006955, 0.20621769493291733, 0.1639369853313456, 0.0013949467515220644, 0.0013583179527950078, 0.03509954638020179, 0.39229748676666787], 1.0)"
      ]
     },
     "execution_count": 35,
     "metadata": {},
     "output_type": "execute_result"
    }
   ],
   "source": [
    "normWeight.(characteristic(n\"Fe\",ltransitions)), sum(normWeight.(characteristic(n\"Fe\",ltransitions)))"
   ]
  },
  {
   "cell_type": "markdown",
   "metadata": {},
   "source": [
    "The kβ represents about 10% of the total line weight so..."
   ]
  },
  {
   "cell_type": "code",
   "execution_count": 36,
   "metadata": {},
   "outputs": [
    {
     "data": {
      "text/plain": [
       "([0.036316387945901134, 0.07138962415597284, 1.7874023761566593e-5, 2.6082394074698673e-5], 0.10774996851971023)"
      ]
     },
     "execution_count": 36,
     "metadata": {},
     "output_type": "execute_result"
    }
   ],
   "source": [
    "normWeight.(characteristic(n\"Fe\",kbeta)), sum(normWeight.(characteristic(n\"Fe\",kbeta)))"
   ]
  },
  {
   "cell_type": "markdown",
   "metadata": {},
   "source": [
    "The `energy(...)` function returns the transition energy in eV.  The `edgeenergy(...)` function returns the ionization edge energy for the inner shell."
   ]
  },
  {
   "cell_type": "code",
   "execution_count": 37,
   "metadata": {},
   "outputs": [
    {
     "data": {
      "text/plain": [
       "Dict{CharXRay,Tuple{AtomicSubShell,AtomicSubShell,Float64,Float64,Float64,Float64,Float64}} with 12 entries:\n",
       "  Fe L2-M4 => (Fe L2, Fe M4, 717.5, 721.1, 0.525667, 0.206218, 0.000675592)\n",
       "  Fe L3-M5 => (Fe L3, Fe M5, 704.5, 708.1, 1.0, 0.392297, 0.00128521)\n",
       "  Fe L3-M4 => (Fe L3, Fe M4, 704.5, 708.1, 0.0894718, 0.0350995, 0.00011499)\n",
       "  Fe L3-M3 => (Fe L3, Fe M3, 654.1, 708.1, 0.00346247, 0.00135832, 4.45e-6)\n",
       "  Fe L1-M2 => (Fe L1, Fe M2, 792.1, 846.1, 0.116114, 0.0455512, 0.000149231)\n",
       "  Fe L3-M2 => (Fe L3, Fe M2, 654.1, 708.1, 0.00355584, 0.00139495, 4.57e-6)\n",
       "  Fe L2-M1 => (Fe L2, Fe M1, 628.2, 721.1, 0.216272, 0.0848428, 0.000277954)\n",
       "  Fe L1-M5 => (Fe L1, Fe M5, 842.5, 846.1, 0.000478776, 0.000187822, 6.15327e-7)\n",
       "  Fe L3-M1 => (Fe L3, Fe M1, 615.2, 708.1, 0.417889, 0.163937, 0.000537076)\n",
       "  Fe L2-M3 => (Fe L2, Fe M3, 667.1, 721.1, 0.00344198, 0.00135028, 4.42367e-6)\n",
       "  Fe L1-M4 => (Fe L1, Fe M4, 842.5, 846.1, 0.000352553, 0.000138306, 4.53105e-7)\n",
       "  Fe L1-M3 => (Fe L1, Fe M3, 792.1, 846.1, 0.172381, 0.0676246, 0.000221546)"
      ]
     },
     "execution_count": 37,
     "metadata": {},
     "output_type": "execute_result"
    }
   ],
   "source": [
    "Dict( cxr=>(inner(cxr), outer(cxr), energy(cxr), edgeenergy(cxr), weight(cxr), normWeight(cxr), strength(cxr)) for cxr in characteristic(n\"Fe\",ltransitions))"
   ]
  },
  {
   "cell_type": "markdown",
   "metadata": {},
   "source": [
    "## Materials"
   ]
  },
  {
   "cell_type": "markdown",
   "metadata": {},
   "source": [
    "It is also generally useful to be able to work with material compositions.  The `Material` object describes a material in mass fraction description, along with material properties like density or a description and the atomic weights associated with elements.  The simplest constructor takes a name and a dictionary specifying element and mass fraction.  More sophisticated examples allow the specification of density, elemental atomic weights and a description."
   ]
  },
  {
   "cell_type": "code",
   "execution_count": 38,
   "metadata": {},
   "outputs": [
    {
     "data": {
      "text/plain": [
       "Au40Cu60 = (Cu = 0.5990, Au = 0.4010)"
      ]
     },
     "execution_count": 38,
     "metadata": {},
     "output_type": "execute_result"
    }
   ],
   "source": [
    "au40cu60a=material(\"Au40Cu60\", Dict(n\"Au\"=>0.401, n\"Cu\"=>0.599))"
   ]
  },
  {
   "cell_type": "code",
   "execution_count": 39,
   "metadata": {},
   "outputs": [
    {
     "data": {
      "text/plain": [
       "Au40Cu60 = (Cu = 0.5990, Au = 0.4010, 15.30 g/cc)"
      ]
     },
     "execution_count": 39,
     "metadata": {},
     "output_type": "execute_result"
    }
   ],
   "source": [
    "au40cu60=material(\"Au40Cu60\", Dict(n\"Au\"=>0.401, n\"Cu\"=>0.599), 15.3, Dict(n\"Au\"=>196.966570),\"SRM-482\")"
   ]
  },
  {
   "cell_type": "code",
   "execution_count": 40,
   "metadata": {},
   "outputs": [
    {
     "data": {
      "text/plain": [
       "(0.401, 0.599)"
      ]
     },
     "execution_count": 40,
     "metadata": {},
     "output_type": "execute_result"
    }
   ],
   "source": [
    "au40cu60[n\"Au\"], au40cu60[n\"Cu\"]"
   ]
  },
  {
   "cell_type": "code",
   "execution_count": 41,
   "metadata": {},
   "outputs": [
    {
     "data": {
      "text/plain": [
       "(15.3, \"SRM-482\")"
      ]
     },
     "execution_count": 41,
     "metadata": {},
     "output_type": "execute_result"
    }
   ],
   "source": [
    "au40cu60[:Density], au40cu60[:Description]"
   ]
  },
  {
   "cell_type": "code",
   "execution_count": 42,
   "metadata": {},
   "outputs": [
    {
     "data": {
      "text/plain": [
       "Dict{Element,AbstractFloat} with 2 entries:\n",
       "  Element(Copper) => 0.822381\n",
       "  Element(Gold)   => 0.177619"
      ]
     },
     "execution_count": 42,
     "metadata": {},
     "output_type": "execute_result"
    }
   ],
   "source": [
    "atomicfraction(au40cu60a)"
   ]
  },
  {
   "cell_type": "code",
   "execution_count": 43,
   "metadata": {},
   "outputs": [
    {
     "data": {
      "text/plain": [
       "(196.9665695, 196.96657, 63.5463)"
      ]
     },
     "execution_count": 43,
     "metadata": {},
     "output_type": "execute_result"
    }
   ],
   "source": [
    "a(n\"Au\",au40cu60a), a(n\"Au\",au40cu60), a(n\"Cu\",au40cu60a)"
   ]
  },
  {
   "cell_type": "code",
   "execution_count": 44,
   "metadata": {},
   "outputs": [
    {
     "data": {
      "text/plain": [
       "2-element Array{Element,1}:\n",
       " Element(Copper)\n",
       " Element(Gold)  "
      ]
     },
     "execution_count": 44,
     "metadata": {},
     "output_type": "execute_result"
    }
   ],
   "source": [
    "collect(keys(au40cu60))"
   ]
  },
  {
   "cell_type": "code",
   "execution_count": 45,
   "metadata": {},
   "outputs": [
    {
     "data": {
      "text/plain": [
       "1.0"
      ]
     },
     "execution_count": 45,
     "metadata": {},
     "output_type": "execute_result"
    }
   ],
   "source": [
    "analyticaltotal(au40cu60)"
   ]
  },
  {
   "cell_type": "code",
   "execution_count": 46,
   "metadata": {},
   "outputs": [
    {
     "data": {
      "text/plain": [
       "(true, false)"
      ]
     },
     "execution_count": 46,
     "metadata": {},
     "output_type": "execute_result"
    }
   ],
   "source": [
    "has(au40cu60, n\"Cu\"), has(au40cu60, n\"Lu\")"
   ]
  },
  {
   "cell_type": "code",
   "execution_count": 47,
   "metadata": {},
   "outputs": [
    {
     "data": {
      "text/plain": [
       "(Al2O3 = (Al = 0.5293, O = 0.4707), Ca5(PO4)3.OH = (Ca = 0.3989, O = 0.4141, P = 0.1850, H = 0.0020))"
      ]
     },
     "execution_count": 47,
     "metadata": {},
     "output_type": "execute_result"
    }
   ],
   "source": [
    "parse(Material,\"Al2O3\"), parse(Material,\"Ca5(PO4)3.OH\")"
   ]
  },
  {
   "cell_type": "code",
   "execution_count": 48,
   "metadata": {},
   "outputs": [
    {
     "data": {
      "text/plain": [
       "(Al2O3 = (Al = 0.5293, O = 0.4707), Ca5(PO4)3OH = (Ca = 0.3989, O = 0.4141, P = 0.1850, H = 0.0020))"
      ]
     },
     "execution_count": 48,
     "metadata": {},
     "output_type": "execute_result"
    }
   ],
   "source": [
    "parse(Material,\"Al2O3\"), parse(Material,\"Ca5(PO4)3OH\")"
   ]
  },
  {
   "cell_type": "code",
   "execution_count": 49,
   "metadata": {},
   "outputs": [
    {
     "data": {
      "text/html": [
       "<table class=\"data-frame\"><thead><tr><th></th><th>Material</th><th>Element</th><th>AtomicNumber</th><th>AtomicWeight</th><th>MassFraction</th><th>NormalizedMassFraction</th><th>AtomicFraction</th></tr><tr><th></th><th>String</th><th>String</th><th>Int64</th><th>Abstract…</th><th>Abstract…</th><th>Abstract…</th><th>Abstract…</th></tr></thead><tbody><p>4 rows × 7 columns</p><tr><th>1</th><td>Apatite</td><td>H</td><td>1</td><td>1.008</td><td>0.00200674</td><td>0.00200674</td><td>0.0454545</td></tr><tr><th>2</th><td>Apatite</td><td>O</td><td>8</td><td>15.999</td><td>0.414062</td><td>0.414062</td><td>0.590909</td></tr><tr><th>3</th><td>Apatite</td><td>P</td><td>15</td><td>30.9738</td><td>0.184989</td><td>0.184989</td><td>0.136364</td></tr><tr><th>4</th><td>Apatite</td><td>Ca</td><td>20</td><td>40.0784</td><td>0.398942</td><td>0.398942</td><td>0.227273</td></tr></tbody></table>"
      ],
      "text/latex": [
       "\\begin{tabular}{r|ccccccc}\n",
       "\t& Material & Element & AtomicNumber & AtomicWeight & MassFraction & NormalizedMassFraction & AtomicFraction\\\\\n",
       "\t\\hline\n",
       "\t& String & String & Int64 & Abstract… & Abstract… & Abstract… & Abstract…\\\\\n",
       "\t\\hline\n",
       "\t1 & Apatite & H & 1 & 1.008 & 0.00200674 & 0.00200674 & 0.0454545 \\\\\n",
       "\t2 & Apatite & O & 8 & 15.999 & 0.414062 & 0.414062 & 0.590909 \\\\\n",
       "\t3 & Apatite & P & 15 & 30.9738 & 0.184989 & 0.184989 & 0.136364 \\\\\n",
       "\t4 & Apatite & Ca & 20 & 40.0784 & 0.398942 & 0.398942 & 0.227273 \\\\\n",
       "\\end{tabular}\n"
      ],
      "text/plain": [
       "4×7 DataFrame\n",
       "│ Row │ Material │ Element │ AtomicNumber │ AtomicWeight │ MassFraction │ NormalizedMassFraction │ AtomicFraction │\n",
       "│     │ \u001b[90mString\u001b[39m   │ \u001b[90mString\u001b[39m  │ \u001b[90mInt64\u001b[39m        │ \u001b[90mAbstract…\u001b[39m    │ \u001b[90mAbstract…\u001b[39m    │ \u001b[90mAbstractFloat\u001b[39m          │ \u001b[90mAbstractFloat\u001b[39m  │\n",
       "├─────┼──────────┼─────────┼──────────────┼──────────────┼──────────────┼────────────────────────┼────────────────┤\n",
       "│ 1   │ Apatite  │ H       │ 1            │ 1.008        │ 0.00200674   │ 0.00200674             │ 0.0454545      │\n",
       "│ 2   │ Apatite  │ O       │ 8            │ 15.999       │ 0.414062     │ 0.414062               │ 0.590909       │\n",
       "│ 3   │ Apatite  │ P       │ 15           │ 30.9738      │ 0.184989     │ 0.184989               │ 0.136364       │\n",
       "│ 4   │ Apatite  │ Ca      │ 20           │ 40.0784      │ 0.398942     │ 0.398942               │ 0.227273       │"
      ]
     },
     "execution_count": 49,
     "metadata": {},
     "output_type": "execute_result"
    }
   ],
   "source": [
    "using DataFrames\n",
    "ENV[\"COLUMNS\"]=300\n",
    "asa(DataFrame,parse(Material,\"Ca5(PO4)3OH\",name=\"Apatite\",density=3.2))"
   ]
  },
  {
   "cell_type": "code",
   "execution_count": 50,
   "metadata": {},
   "outputs": [
    {
     "data": {
      "text/html": [
       "<table class=\"data-frame\"><thead><tr><th></th><th>Material</th><th>H</th><th>O</th><th>Al</th><th>P</th><th>Ca</th><th>Total</th></tr><tr><th></th><th>String</th><th>Abstract…</th><th>Abstract…</th><th>Abstract…</th><th>Abstract…</th><th>Abstract…</th><th>Abstract…</th></tr></thead><tbody><p>2 rows × 7 columns</p><tr><th>1</th><td>Al2O3</td><td>0.0</td><td>0.470743</td><td>0.529257</td><td>0.0</td><td>0.0</td><td>1.0</td></tr><tr><th>2</th><td>Ca5(PO4)3.OH</td><td>0.00200674</td><td>0.414062</td><td>0.0</td><td>0.184989</td><td>0.398942</td><td>1.0</td></tr></tbody></table>"
      ],
      "text/latex": [
       "\\begin{tabular}{r|ccccccc}\n",
       "\t& Material & H & O & Al & P & Ca & Total\\\\\n",
       "\t\\hline\n",
       "\t& String & Abstract… & Abstract… & Abstract… & Abstract… & Abstract… & Abstract…\\\\\n",
       "\t\\hline\n",
       "\t1 & Al2O3 & 0.0 & 0.470743 & 0.529257 & 0.0 & 0.0 & 1.0 \\\\\n",
       "\t2 & Ca5(PO4)3.OH & 0.00200674 & 0.414062 & 0.0 & 0.184989 & 0.398942 & 1.0 \\\\\n",
       "\\end{tabular}\n"
      ],
      "text/plain": [
       "2×7 DataFrame\n",
       "│ Row │ Material     │ H          │ O         │ Al        │ P         │ Ca        │ Total     │\n",
       "│     │ \u001b[90mString\u001b[39m       │ \u001b[90mAbstract…\u001b[39m  │ \u001b[90mAbstract…\u001b[39m │ \u001b[90mAbstract…\u001b[39m │ \u001b[90mAbstract…\u001b[39m │ \u001b[90mAbstract…\u001b[39m │ \u001b[90mAbstract…\u001b[39m │\n",
       "├─────┼──────────────┼────────────┼───────────┼───────────┼───────────┼───────────┼───────────┤\n",
       "│ 1   │ Al2O3        │ 0.0        │ 0.470743  │ 0.529257  │ 0.0       │ 0.0       │ 1.0       │\n",
       "│ 2   │ Ca5(PO4)3.OH │ 0.00200674 │ 0.414062  │ 0.0       │ 0.184989  │ 0.398942  │ 1.0       │"
      ]
     },
     "execution_count": 50,
     "metadata": {},
     "output_type": "execute_result"
    }
   ],
   "source": [
    "asa(DataFrame,[parse(Material,\"Al2O3\"), parse(Material,\"Ca5(PO4)3.OH\")])"
   ]
  },
  {
   "cell_type": "code",
   "execution_count": 51,
   "metadata": {},
   "outputs": [
    {
     "data": {
      "text/plain": [
       "Apatite = (Ca = 0.3989, O = 0.4141, P = 0.1850, H = 0.0020, 3.20 g/cc)"
      ]
     },
     "execution_count": 51,
     "metadata": {},
     "output_type": "execute_result"
    }
   ],
   "source": [
    "af = atomicfraction(\"Apatite\", Dict(n\"Ca\"=>5, n\"P\"=>3, n\"O\"=>13, n\"H\"=>1 ), 3.2)"
   ]
  },
  {
   "cell_type": "code",
   "execution_count": 52,
   "metadata": {},
   "outputs": [
    {
     "data": {
      "text/html": [
       "<table class=\"data-frame\"><thead><tr><th></th><th>Unkown</th><th>Known</th><th>Elm</th><th>Cknown</th><th>Cresult</th><th>ΔC</th><th>ΔCoC</th><th>Aknown</th><th>Aresult</th><th>ΔA</th><th>ΔAoA</th></tr><tr><th></th><th>String</th><th>String</th><th>String</th><th>Float64</th><th>Float64</th><th>Float64</th><th>Float64</th><th>Float64</th><th>Float64</th><th>Float64</th><th>Float64</th></tr></thead><tbody><p>4 rows × 11 columns</p><tr><th>1</th><td>Apatite</td><td>Apatite</td><td>Ca</td><td>0.398942</td><td>0.398942</td><td>0.0</td><td>0.0</td><td>0.227273</td><td>0.227273</td><td>0.0</td><td>0.0</td></tr><tr><th>2</th><td>Apatite</td><td>Apatite</td><td>O</td><td>0.414062</td><td>0.414062</td><td>0.0</td><td>0.0</td><td>0.590909</td><td>0.590909</td><td>0.0</td><td>0.0</td></tr><tr><th>3</th><td>Apatite</td><td>Apatite</td><td>P</td><td>0.184989</td><td>0.184989</td><td>0.0</td><td>0.0</td><td>0.136364</td><td>0.136364</td><td>0.0</td><td>0.0</td></tr><tr><th>4</th><td>Apatite</td><td>Apatite</td><td>H</td><td>0.00200674</td><td>0.00200674</td><td>0.0</td><td>0.0</td><td>0.0454545</td><td>0.0454545</td><td>0.0</td><td>0.0</td></tr></tbody></table>"
      ],
      "text/latex": [
       "\\begin{tabular}{r|ccccccccccc}\n",
       "\t& Unkown & Known & Elm & Cknown & Cresult & ΔC & ΔCoC & Aknown & Aresult & ΔA & ΔAoA\\\\\n",
       "\t\\hline\n",
       "\t& String & String & String & Float64 & Float64 & Float64 & Float64 & Float64 & Float64 & Float64 & Float64\\\\\n",
       "\t\\hline\n",
       "\t1 & Apatite & Apatite & Ca & 0.398942 & 0.398942 & 0.0 & 0.0 & 0.227273 & 0.227273 & 0.0 & 0.0 \\\\\n",
       "\t2 & Apatite & Apatite & O & 0.414062 & 0.414062 & 0.0 & 0.0 & 0.590909 & 0.590909 & 0.0 & 0.0 \\\\\n",
       "\t3 & Apatite & Apatite & P & 0.184989 & 0.184989 & 0.0 & 0.0 & 0.136364 & 0.136364 & 0.0 & 0.0 \\\\\n",
       "\t4 & Apatite & Apatite & H & 0.00200674 & 0.00200674 & 0.0 & 0.0 & 0.0454545 & 0.0454545 & 0.0 & 0.0 \\\\\n",
       "\\end{tabular}\n"
      ],
      "text/plain": [
       "4×11 DataFrame\n",
       "│ Row │ Unkown  │ Known   │ Elm    │ Cknown     │ Cresult    │ ΔC      │ ΔCoC    │ Aknown    │ Aresult   │ ΔA      │ ΔAoA    │\n",
       "│     │ \u001b[90mString\u001b[39m  │ \u001b[90mString\u001b[39m  │ \u001b[90mString\u001b[39m │ \u001b[90mFloat64\u001b[39m    │ \u001b[90mFloat64\u001b[39m    │ \u001b[90mFloat64\u001b[39m │ \u001b[90mFloat64\u001b[39m │ \u001b[90mFloat64\u001b[39m   │ \u001b[90mFloat64\u001b[39m   │ \u001b[90mFloat64\u001b[39m │ \u001b[90mFloat64\u001b[39m │\n",
       "├─────┼─────────┼─────────┼────────┼────────────┼────────────┼─────────┼─────────┼───────────┼───────────┼─────────┼─────────┤\n",
       "│ 1   │ Apatite │ Apatite │ Ca     │ 0.398942   │ 0.398942   │ 0.0     │ 0.0     │ 0.227273  │ 0.227273  │ 0.0     │ 0.0     │\n",
       "│ 2   │ Apatite │ Apatite │ O      │ 0.414062   │ 0.414062   │ 0.0     │ 0.0     │ 0.590909  │ 0.590909  │ 0.0     │ 0.0     │\n",
       "│ 3   │ Apatite │ Apatite │ P      │ 0.184989   │ 0.184989   │ 0.0     │ 0.0     │ 0.136364  │ 0.136364  │ 0.0     │ 0.0     │\n",
       "│ 4   │ Apatite │ Apatite │ H      │ 0.00200674 │ 0.00200674 │ 0.0     │ 0.0     │ 0.0454545 │ 0.0454545 │ 0.0     │ 0.0     │"
      ]
     },
     "execution_count": 52,
     "metadata": {},
     "output_type": "execute_result"
    }
   ],
   "source": [
    "compare(af,parse(Material,\"Ca5(PO4)3OH\",name=\"Apatite\",density=3.2))"
   ]
  },
  {
   "cell_type": "code",
   "execution_count": 53,
   "metadata": {},
   "outputs": [
    {
     "data": {
      "text/plain": [
       "Pure Fe = (Fe = 1.0000, 7.87 g/cc)"
      ]
     },
     "execution_count": 53,
     "metadata": {},
     "output_type": "execute_result"
    }
   ],
   "source": [
    "fe = pure(n\"Fe\")"
   ]
  },
  {
   "cell_type": "code",
   "execution_count": 54,
   "metadata": {},
   "outputs": [
    {
     "name": "stdout",
     "output_type": "stream",
     "text": [
      "Aluminum silicate = (Al = 0.2300, Si = 0.4600, O = 0.3000)\n",
      "Dict{Element,AbstractFloat}(Element(Aluminium) => 0.23232323232323235,Element(Silicon) => 0.4646464646464647,Element(Oxygen) => 0.30303030303030304)\n"
     ]
    }
   ],
   "source": [
    "stuff = material(\"Aluminum silicate\", Dict(n\"Al\"=>0.23, n\"Si\"=>0.46, n\"O\"=>0.30))\n",
    "println(stuff)\n",
    "println(normalizedmassfraction(stuff))"
   ]
  },
  {
   "cell_type": "code",
   "execution_count": 55,
   "metadata": {},
   "outputs": [
    {
     "data": {
      "text/html": [
       "<table class=\"data-frame\"><thead><tr><th></th><th>Unkown</th><th>Known</th><th>Elm</th><th>Cknown</th><th>Cresult</th><th>ΔC</th><th>ΔCoC</th><th>Aknown</th><th>Aresult</th><th>ΔA</th><th>ΔAoA</th></tr><tr><th></th><th>String</th><th>String</th><th>String</th><th>Float64</th><th>Float64</th><th>Float64</th><th>Float64</th><th>Float64</th><th>Float64</th><th>Float64</th><th>Float64</th></tr></thead><tbody><p>3 rows × 11 columns</p><tr><th>1</th><td>Aluminum silicate</td><td>N[Aluminum silicate,1.0]</td><td>Al</td><td>0.232323</td><td>0.23</td><td>0.00232323</td><td>1.0</td><td>0.195269</td><td>0.195269</td><td>-2.77556e-17</td><td>-1.4214e-14</td></tr><tr><th>2</th><td>Aluminum silicate</td><td>N[Aluminum silicate,1.0]</td><td>Si</td><td>0.464646</td><td>0.46</td><td>0.00464646</td><td>1.0</td><td>0.375194</td><td>0.375194</td><td>-5.55112e-17</td><td>-1.47953e-14</td></tr><tr><th>3</th><td>Aluminum silicate</td><td>N[Aluminum silicate,1.0]</td><td>O</td><td>0.30303</td><td>0.3</td><td>0.0030303</td><td>1.0</td><td>0.429537</td><td>0.429537</td><td>0.0</td><td>0.0</td></tr></tbody></table>"
      ],
      "text/latex": [
       "\\begin{tabular}{r|ccccccccccc}\n",
       "\t& Unkown & Known & Elm & Cknown & Cresult & ΔC & ΔCoC & Aknown & Aresult & ΔA & ΔAoA\\\\\n",
       "\t\\hline\n",
       "\t& String & String & String & Float64 & Float64 & Float64 & Float64 & Float64 & Float64 & Float64 & Float64\\\\\n",
       "\t\\hline\n",
       "\t1 & Aluminum silicate & N[Aluminum silicate,1.0] & Al & 0.232323 & 0.23 & 0.00232323 & 1.0 & 0.195269 & 0.195269 & -2.77556e-17 & -1.4214e-14 \\\\\n",
       "\t2 & Aluminum silicate & N[Aluminum silicate,1.0] & Si & 0.464646 & 0.46 & 0.00464646 & 1.0 & 0.375194 & 0.375194 & -5.55112e-17 & -1.47953e-14 \\\\\n",
       "\t3 & Aluminum silicate & N[Aluminum silicate,1.0] & O & 0.30303 & 0.3 & 0.0030303 & 1.0 & 0.429537 & 0.429537 & 0.0 & 0.0 \\\\\n",
       "\\end{tabular}\n"
      ],
      "text/plain": [
       "3×11 DataFrame\n",
       "│ Row │ Unkown            │ Known                    │ Elm    │ Cknown   │ Cresult │ ΔC         │ ΔCoC    │ Aknown   │ Aresult  │ ΔA           │ ΔAoA         │\n",
       "│     │ \u001b[90mString\u001b[39m            │ \u001b[90mString\u001b[39m                   │ \u001b[90mString\u001b[39m │ \u001b[90mFloat64\u001b[39m  │ \u001b[90mFloat64\u001b[39m │ \u001b[90mFloat64\u001b[39m    │ \u001b[90mFloat64\u001b[39m │ \u001b[90mFloat64\u001b[39m  │ \u001b[90mFloat64\u001b[39m  │ \u001b[90mFloat64\u001b[39m      │ \u001b[90mFloat64\u001b[39m      │\n",
       "├─────┼───────────────────┼──────────────────────────┼────────┼──────────┼─────────┼────────────┼─────────┼──────────┼──────────┼──────────────┼──────────────┤\n",
       "│ 1   │ Aluminum silicate │ N[Aluminum silicate,1.0] │ Al     │ 0.232323 │ 0.23    │ 0.00232323 │ 1.0     │ 0.195269 │ 0.195269 │ -2.77556e-17 │ -1.4214e-14  │\n",
       "│ 2   │ Aluminum silicate │ N[Aluminum silicate,1.0] │ Si     │ 0.464646 │ 0.46    │ 0.00464646 │ 1.0     │ 0.375194 │ 0.375194 │ -5.55112e-17 │ -1.47953e-14 │\n",
       "│ 3   │ Aluminum silicate │ N[Aluminum silicate,1.0] │ O      │ 0.30303  │ 0.3     │ 0.0030303  │ 1.0     │ 0.429537 │ 0.429537 │ 0.0          │ 0.0          │"
      ]
     },
     "execution_count": 55,
     "metadata": {},
     "output_type": "execute_result"
    }
   ],
   "source": [
    "compare(stuff, asnormalized(stuff))"
   ]
  },
  {
   "cell_type": "markdown",
   "metadata": {},
   "source": [
    "## O-by-Stoichiometry"
   ]
  },
  {
   "cell_type": "code",
   "execution_count": 56,
   "metadata": {},
   "outputs": [
    {
     "data": {
      "text/plain": [
       "NaAlSi3O8 = (Al = 0.1029, Si = 0.3213, Na = 0.0877, O = 0.4881)"
      ]
     },
     "execution_count": 56,
     "metadata": {},
     "output_type": "execute_result"
    }
   ],
   "source": [
    "albite=parse(Material,\"NaAlSi3O8\")  # Let's consider albite which is"
   ]
  },
  {
   "cell_type": "code",
   "execution_count": 57,
   "metadata": {},
   "outputs": [
    {
     "data": {
      "text/plain": [
       "(Al2O3 = (Al = 0.5293, O = 0.4707), SiO2 = (Si = 0.4674, O = 0.5326), Na2O = (Na = 0.7419, O = 0.2581))"
      ]
     },
     "execution_count": 57,
     "metadata": {},
     "output_type": "execute_result"
    }
   ],
   "source": [
    "asoxide(n\"Al\"), asoxide(n\"Si\"), asoxide(n\"Na\")"
   ]
  },
  {
   "cell_type": "code",
   "execution_count": 58,
   "metadata": {},
   "outputs": [
    {
     "data": {
      "text/plain": [
       "0.4881053239590479"
      ]
     },
     "execution_count": 58,
     "metadata": {},
     "output_type": "execute_result"
    }
   ],
   "source": [
    "obystoichiometry(Dict(n\"Al\"=>0.1029, n\"Si\"=>0.3213, n\"Na\"=>0.0877))"
   ]
  },
  {
   "cell_type": "code",
   "execution_count": 59,
   "metadata": {},
   "outputs": [
    {
     "data": {
      "text/plain": [
       "0.1029 of Al as Al2O3, 0.3213 of Si as SiO2, 0.0877 of Na as Na2O = (Al = 0.1029, Si = 0.3213, Na = 0.0877, O = 0.4881)"
      ]
     },
     "execution_count": 59,
     "metadata": {},
     "output_type": "execute_result"
    }
   ],
   "source": [
    "asoxide(Dict(n\"Al\"=>0.1029, n\"Si\"=>0.3213, n\"Na\"=>0.0877))"
   ]
  }
 ],
 "metadata": {
  "kernelspec": {
   "display_name": "Julia (8 threads) 1.3.1",
   "language": "julia",
   "name": "julia-(8-threads)-1.3"
  },
  "language_info": {
   "file_extension": ".jl",
   "mimetype": "application/julia",
   "name": "julia",
   "version": "1.3.1"
  }
 },
 "nbformat": 4,
 "nbformat_minor": 4
}
