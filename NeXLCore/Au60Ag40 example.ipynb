{
 "cells": [
  {
   "cell_type": "code",
   "execution_count": 1,
   "metadata": {},
   "outputs": [],
   "source": [
    "using NeXLCore\n",
    "using DataFrames"
   ]
  },
  {
   "cell_type": "code",
   "execution_count": 2,
   "metadata": {},
   "outputs": [
    {
     "data": {
      "text/plain": [
       "Variable       Value              Az[Ag,Au60AgAz[Au,Au60AgC[Ag,Au60Ag4C[Au,Au60Ag4\n",
       "Az[Ag,Au60 | 108      |     |   0           0           0           0         |\n",
       "Az[Au,Au60 | 197      |  ±  |   0           0           0           0         |\n",
       "C[Ag,Au60A | 0.402    |     |   0           0           8.1e-05    0         |\n",
       "C[Au,Au60A | 0.595    |     |   0           0           0           0.000144  |"
      ]
     },
     "execution_count": 2,
     "metadata": {},
     "output_type": "execute_result"
    }
   ],
   "source": [
    "mat = \"Au60Ag40\"\n",
    "inplbls = [ MassFractionLabel(mat,n\"Ag\"), AtomicWeightLabel(mat,n\"Ag\"),\n",
    "            MassFractionLabel(mat,n\"Au\"), AtomicWeightLabel(mat,n\"Au\") ]\n",
    "inpvals = Float64[ 0.4020, 107.87, 0.5950, 196.97 ]\n",
    "inpcovs = Float64[ (0.0090)^2 0 0 0; 0 0 0 0; 0 0 (0.0120)^2 0; 0 0 0 0 ]\n",
    "inputs = uvs(inplbls, inpvals, inpcovs)"
   ]
  },
  {
   "cell_type": "code",
   "execution_count": 3,
   "metadata": {},
   "outputs": [
    {
     "data": {
      "text/plain": [
       "Variable       Value              A[Ag,Au60Ag4A[Au,Au60Ag4Az[Ag,Au60AgAz[Au,Au60AgC[Ag,Au60Ag4C[Au,Au60Ag4MeanAz[Au60AMeanZ[Au60AgN[Ag,Au60Ag4N[Au,Au60Ag4\n",
       "A[Ag,Au60A | 0.552    |     |   5.55e-05    -5.55e-05    0           0           4.98e-05    -5.98e-05    -0.00641    -0.00239    5.4e-05    -5.4e-05  |\n",
       "A[Au,Au60A | 0.448    |     |   -5.55e-05    5.55e-05    0           0           -4.98e-05    5.98e-05    0.00641     0.00239     -5.4e-05    5.4e-05  |\n",
       "Az[Ag,Au60 | 108      |     |   0           0           0           0           0           0           0           0           0           0         |\n",
       "Az[Au,Au60 | 197      |     |   0           0           0           0           0           0           0           0           0           0         |\n",
       "C[Ag,Au60A | 0.402    |  ±  |   4.98e-05    -4.98e-05    0           0           8.1e-05    0           0.00874     0.00381     4.85e-05    -4.85e-05  |\n",
       "C[Au,Au60A | 0.595    |     |   -5.98e-05    5.98e-05    0           0           0           0.000144    0.0284      0.0114      -5.82e-05    5.82e-05  |\n",
       "MeanAz[Au6 | 161      |     |   -0.00641    0.00641     0           0           0.00874     0.0284      6.53        2.65        -0.00624    0.00624   |\n",
       "MeanZ[Au60 | 65.9     |     |   -0.00239    0.00239     0           0           0.00381     0.0114      2.65        1.08        -0.00232    0.00232   |\n",
       "N[Ag,Au60A | 0.403    |     |   5.4e-05    -5.4e-05    0           0           4.85e-05    -5.82e-05    -0.00624    -0.00232    5.26e-05    -5.26e-05  |\n",
       "N[Au,Au60A | 0.597    |     |   -5.4e-05    5.4e-05    0           0           -4.85e-05    5.82e-05    0.00624     0.00232     -5.26e-05    5.26e-05  |"
      ]
     },
     "execution_count": 3,
     "metadata": {},
     "output_type": "execute_result"
    }
   ],
   "source": [
    "afs = mf2comp( mat, inputs)"
   ]
  },
  {
   "cell_type": "code",
   "execution_count": 4,
   "metadata": {},
   "outputs": [
    {
     "data": {
      "text/html": [
       "<table class=\"data-frame\"><thead><tr><th></th><th>Variable</th><th>Values</th><th>A[Ag,Au60Ag40]</th><th>A[Au,Au60Ag40]</th><th>Az[Ag,Au60Ag40]</th><th>Az[Au,Au60Ag40]</th><th>C[Ag,Au60Ag40]</th><th>C[Au,Au60Ag40]</th><th>MeanAz[Au60Ag40]</th><th>MeanZ[Au60Ag40]</th><th>N[Ag,Au60Ag40]</th><th>N[Au,Au60Ag40]</th></tr><tr><th></th><th>String</th><th>Float64</th><th>Float64</th><th>Float64</th><th>Float64</th><th>Float64</th><th>Float64</th><th>Float64</th><th>Float64</th><th>Float64</th><th>Float64</th><th>Float64</th></tr></thead><tbody><p>10 rows × 12 columns</p><tr><th>1</th><td>A[Ag,Au60Ag40]</td><td>0.552312</td><td>5.5513e-5</td><td>-5.5513e-5</td><td>0.0</td><td>0.0</td><td>4.98217e-5</td><td>-5.98419e-5</td><td>-0.00641279</td><td>-0.00238589</td><td>5.4024e-5</td><td>-5.4024e-5</td></tr><tr><th>2</th><td>A[Au,Au60Ag40]</td><td>0.447688</td><td>-5.5513e-5</td><td>5.5513e-5</td><td>0.0</td><td>0.0</td><td>-4.98217e-5</td><td>5.98419e-5</td><td>0.00641279</td><td>0.00238589</td><td>-5.4024e-5</td><td>5.4024e-5</td></tr><tr><th>3</th><td>Az[Ag,Au60Ag40]</td><td>107.87</td><td>0.0</td><td>0.0</td><td>0.0</td><td>0.0</td><td>0.0</td><td>0.0</td><td>0.0</td><td>0.0</td><td>0.0</td><td>0.0</td></tr><tr><th>4</th><td>Az[Au,Au60Ag40]</td><td>196.97</td><td>0.0</td><td>0.0</td><td>0.0</td><td>0.0</td><td>0.0</td><td>0.0</td><td>0.0</td><td>0.0</td><td>0.0</td><td>0.0</td></tr><tr><th>5</th><td>C[Ag,Au60Ag40]</td><td>0.402</td><td>4.98217e-5</td><td>-4.98217e-5</td><td>0.0</td><td>0.0</td><td>8.1e-5</td><td>0.0</td><td>0.00873747</td><td>0.003807</td><td>4.84855e-5</td><td>-4.84855e-5</td></tr><tr><th>6</th><td>C[Au,Au60Ag40]</td><td>0.595</td><td>-5.98419e-5</td><td>5.98419e-5</td><td>0.0</td><td>0.0</td><td>0.0</td><td>0.000144</td><td>0.0283637</td><td>0.011376</td><td>-5.82369e-5</td><td>5.82369e-5</td></tr><tr><th>7</th><td>MeanAz[Au60Ag40]</td><td>160.561</td><td>-0.00641279</td><td>0.00641279</td><td>0.0</td><td>0.0</td><td>0.00873747</td><td>0.0283637</td><td>6.5293</td><td>2.65139</td><td>-0.00624079</td><td>0.00624079</td></tr><tr><th>8</th><td>MeanZ[Au60Ag40]</td><td>65.899</td><td>-0.00238589</td><td>0.00238589</td><td>0.0</td><td>0.0</td><td>0.003807</td><td>0.011376</td><td>2.65139</td><td>1.07763</td><td>-0.0023219</td><td>0.0023219</td></tr><tr><th>9</th><td>N[Ag,Au60Ag40]</td><td>0.40321</td><td>5.4024e-5</td><td>-5.4024e-5</td><td>0.0</td><td>0.0</td><td>4.84855e-5</td><td>-5.82369e-5</td><td>-0.00624079</td><td>-0.0023219</td><td>5.25751e-5</td><td>-5.25751e-5</td></tr><tr><th>10</th><td>N[Au,Au60Ag40]</td><td>0.59679</td><td>-5.4024e-5</td><td>5.4024e-5</td><td>0.0</td><td>0.0</td><td>-4.84855e-5</td><td>5.82369e-5</td><td>0.00624079</td><td>0.0023219</td><td>-5.25751e-5</td><td>5.25751e-5</td></tr></tbody></table>"
      ],
      "text/latex": [
       "\\begin{tabular}{r|cccccccccccc}\n",
       "\t& Variable & Values & A[Ag,Au60Ag40] & A[Au,Au60Ag40] & Az[Ag,Au60Ag40] & Az[Au,Au60Ag40] & C[Ag,Au60Ag40] & C[Au,Au60Ag40] & MeanAz[Au60Ag40] & MeanZ[Au60Ag40] & N[Ag,Au60Ag40] & N[Au,Au60Ag40]\\\\\n",
       "\t\\hline\n",
       "\t& String & Float64 & Float64 & Float64 & Float64 & Float64 & Float64 & Float64 & Float64 & Float64 & Float64 & Float64\\\\\n",
       "\t\\hline\n",
       "\t1 & A[Ag,Au60Ag40] & 0.552312 & 5.5513e-5 & -5.5513e-5 & 0.0 & 0.0 & 4.98217e-5 & -5.98419e-5 & -0.00641279 & -0.00238589 & 5.4024e-5 & -5.4024e-5 \\\\\n",
       "\t2 & A[Au,Au60Ag40] & 0.447688 & -5.5513e-5 & 5.5513e-5 & 0.0 & 0.0 & -4.98217e-5 & 5.98419e-5 & 0.00641279 & 0.00238589 & -5.4024e-5 & 5.4024e-5 \\\\\n",
       "\t3 & Az[Ag,Au60Ag40] & 107.87 & 0.0 & 0.0 & 0.0 & 0.0 & 0.0 & 0.0 & 0.0 & 0.0 & 0.0 & 0.0 \\\\\n",
       "\t4 & Az[Au,Au60Ag40] & 196.97 & 0.0 & 0.0 & 0.0 & 0.0 & 0.0 & 0.0 & 0.0 & 0.0 & 0.0 & 0.0 \\\\\n",
       "\t5 & C[Ag,Au60Ag40] & 0.402 & 4.98217e-5 & -4.98217e-5 & 0.0 & 0.0 & 8.1e-5 & 0.0 & 0.00873747 & 0.003807 & 4.84855e-5 & -4.84855e-5 \\\\\n",
       "\t6 & C[Au,Au60Ag40] & 0.595 & -5.98419e-5 & 5.98419e-5 & 0.0 & 0.0 & 0.0 & 0.000144 & 0.0283637 & 0.011376 & -5.82369e-5 & 5.82369e-5 \\\\\n",
       "\t7 & MeanAz[Au60Ag40] & 160.561 & -0.00641279 & 0.00641279 & 0.0 & 0.0 & 0.00873747 & 0.0283637 & 6.5293 & 2.65139 & -0.00624079 & 0.00624079 \\\\\n",
       "\t8 & MeanZ[Au60Ag40] & 65.899 & -0.00238589 & 0.00238589 & 0.0 & 0.0 & 0.003807 & 0.011376 & 2.65139 & 1.07763 & -0.0023219 & 0.0023219 \\\\\n",
       "\t9 & N[Ag,Au60Ag40] & 0.40321 & 5.4024e-5 & -5.4024e-5 & 0.0 & 0.0 & 4.84855e-5 & -5.82369e-5 & -0.00624079 & -0.0023219 & 5.25751e-5 & -5.25751e-5 \\\\\n",
       "\t10 & N[Au,Au60Ag40] & 0.59679 & -5.4024e-5 & 5.4024e-5 & 0.0 & 0.0 & -4.84855e-5 & 5.82369e-5 & 0.00624079 & 0.0023219 & -5.25751e-5 & 5.25751e-5 \\\\\n",
       "\\end{tabular}\n"
      ],
      "text/plain": [
       "10×12 DataFrame. Omitted printing of 2 columns\n",
       "│ Row │ Variable         │ Values   │ A[Ag,Au60Ag40] │ A[Au,Au60Ag40] │ Az[Ag,Au60Ag40] │ Az[Au,Au60Ag40] │ C[Ag,Au60Ag40] │ C[Au,Au60Ag40] │ MeanAz[Au60Ag40] │ MeanZ[Au60Ag40] │\n",
       "│     │ \u001b[90mString\u001b[39m           │ \u001b[90mFloat64\u001b[39m  │ \u001b[90mFloat64\u001b[39m        │ \u001b[90mFloat64\u001b[39m        │ \u001b[90mFloat64\u001b[39m         │ \u001b[90mFloat64\u001b[39m         │ \u001b[90mFloat64\u001b[39m        │ \u001b[90mFloat64\u001b[39m        │ \u001b[90mFloat64\u001b[39m          │ \u001b[90mFloat64\u001b[39m         │\n",
       "├─────┼──────────────────┼──────────┼────────────────┼────────────────┼─────────────────┼─────────────────┼────────────────┼────────────────┼──────────────────┼─────────────────┤\n",
       "│ 1   │ A[Ag,Au60Ag40]   │ 0.552312 │ 5.5513e-5      │ -5.5513e-5     │ 0.0             │ 0.0             │ 4.98217e-5     │ -5.98419e-5    │ -0.00641279      │ -0.00238589     │\n",
       "│ 2   │ A[Au,Au60Ag40]   │ 0.447688 │ -5.5513e-5     │ 5.5513e-5      │ 0.0             │ 0.0             │ -4.98217e-5    │ 5.98419e-5     │ 0.00641279       │ 0.00238589      │\n",
       "│ 3   │ Az[Ag,Au60Ag40]  │ 107.87   │ 0.0            │ 0.0            │ 0.0             │ 0.0             │ 0.0            │ 0.0            │ 0.0              │ 0.0             │\n",
       "│ 4   │ Az[Au,Au60Ag40]  │ 196.97   │ 0.0            │ 0.0            │ 0.0             │ 0.0             │ 0.0            │ 0.0            │ 0.0              │ 0.0             │\n",
       "│ 5   │ C[Ag,Au60Ag40]   │ 0.402    │ 4.98217e-5     │ -4.98217e-5    │ 0.0             │ 0.0             │ 8.1e-5         │ 0.0            │ 0.00873747       │ 0.003807        │\n",
       "│ 6   │ C[Au,Au60Ag40]   │ 0.595    │ -5.98419e-5    │ 5.98419e-5     │ 0.0             │ 0.0             │ 0.0            │ 0.000144       │ 0.0283637        │ 0.011376        │\n",
       "│ 7   │ MeanAz[Au60Ag40] │ 160.561  │ -0.00641279    │ 0.00641279     │ 0.0             │ 0.0             │ 0.00873747     │ 0.0283637      │ 6.5293           │ 2.65139         │\n",
       "│ 8   │ MeanZ[Au60Ag40]  │ 65.899   │ -0.00238589    │ 0.00238589     │ 0.0             │ 0.0             │ 0.003807       │ 0.011376       │ 2.65139          │ 1.07763         │\n",
       "│ 9   │ N[Ag,Au60Ag40]   │ 0.40321  │ 5.4024e-5      │ -5.4024e-5     │ 0.0             │ 0.0             │ 4.84855e-5     │ -5.82369e-5    │ -0.00624079      │ -0.0023219      │\n",
       "│ 10  │ N[Au,Au60Ag40]   │ 0.59679  │ -5.4024e-5     │ 5.4024e-5      │ 0.0             │ 0.0             │ -4.84855e-5    │ 5.82369e-5     │ 0.00624079       │ 0.0023219       │"
      ]
     },
     "execution_count": 4,
     "metadata": {},
     "output_type": "execute_result"
    }
   ],
   "source": [
    "asa(DataFrame,afs)"
   ]
  },
  {
   "cell_type": "code",
   "execution_count": 5,
   "metadata": {},
   "outputs": [
    {
     "data": {
      "text/plain": [
       "161 ± 2.56"
      ]
     },
     "execution_count": 5,
     "metadata": {},
     "output_type": "execute_result"
    }
   ],
   "source": [
    "afs[MeanAz(mat)]"
   ]
  },
  {
   "cell_type": "code",
   "execution_count": 9,
   "metadata": {},
   "outputs": [
    {
     "data": {
      "text/plain": [
       "10-element Array{Pair{A,UncertainValue} where A,1}:\n",
       "   A[Ag,Au60Ag40] => 0.552 ± 0.00745\n",
       "   A[Au,Au60Ag40] => 0.448 ± 0.00745\n",
       "  Az[Ag,Au60Ag40] => 108 ± 0        \n",
       "  Az[Au,Au60Ag40] => 197 ± 0        \n",
       "   C[Ag,Au60Ag40] => 0.402 ± 0.009  \n",
       "   C[Au,Au60Ag40] => 0.595 ± 0.012  \n",
       " MeanAz[Au60Ag40] => 161 ± 2.56     \n",
       "  MeanZ[Au60Ag40] => 65.9 ± 1.04    \n",
       "   N[Ag,Au60Ag40] => 0.403 ± 0.00725\n",
       "   N[Au,Au60Ag40] => 0.597 ± 0.00725"
      ]
     },
     "execution_count": 9,
     "metadata": {},
     "output_type": "execute_result"
    }
   ],
   "source": [
    "map(lbl->(lbl => afs[lbl]),labels(afs))"
   ]
  },
  {
   "cell_type": "code",
   "execution_count": 10,
   "metadata": {},
   "outputs": [],
   "source": [
    "using BenchmarkTools"
   ]
  },
  {
   "cell_type": "code",
   "execution_count": 12,
   "metadata": {},
   "outputs": [
    {
     "name": "stdout",
     "output_type": "stream",
     "text": [
      "  50.500 μs (353 allocations: 13.66 KiB)\n"
     ]
    }
   ],
   "source": [
    "@btime mf2comp( mat, inputs);"
   ]
  }
 ],
 "metadata": {
  "kernelspec": {
   "display_name": "Julia (1.3.0, 4 threads) 1.3.0",
   "language": "julia",
   "name": "julia-(1.3.0,-4-threads)-1.3"
  },
  "language_info": {
   "file_extension": ".jl",
   "mimetype": "application/julia",
   "name": "julia",
   "version": "1.3.0"
  }
 },
 "nbformat": 4,
 "nbformat_minor": 4
}
