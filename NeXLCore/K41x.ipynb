{
 "cells": [
  {
   "cell_type": "code",
   "execution_count": 48,
   "metadata": {},
   "outputs": [],
   "source": [
    "using DataFrames\n",
    "using Revise\n",
    "using NeXLCore"
   ]
  },
  {
   "cell_type": "code",
   "execution_count": 100,
   "metadata": {},
   "outputs": [
    {
     "data": {
      "text/plain": [
       "Dict{MassFractionLabel,UncertainValue} with 5 entries:\n",
       "  C[Si,K411] => 0.25382 ± 0.00093\n",
       "  C[O,K411]  => 0.42366 ± 0.0015\n",
       "  C[Ca,K411] => 0.1106 ± 0.0014\n",
       "  C[Mg,K411] => 0.08847 ± 0.0012\n",
       "  C[Fe,K411] => 0.1121 ± 0.0016"
      ]
     },
     "execution_count": 100,
     "metadata": {},
     "output_type": "execute_result"
    }
   ],
   "source": [
    "mgo=NeXLCore.af2comp(\"MgO\", Dict(n\"Mg\"=>1,n\"O\"=>1))\n",
    "sio2=NeXLCore.af2comp(\"SiO2\", Dict(n\"Si\"=>1,n\"O\"=>2))\n",
    "cao=NeXLCore.af2comp(\"CaO\", Dict(n\"Ca\"=>1,n\"O\"=>1))\n",
    "feo=NeXLCore.af2comp(\"FeO\", Dict(n\"Fe\"=>1,n\"O\"=>1))\n",
    "NeXLUncertainties.extract(MassFractionLabel, NeXLCore.mixture(\n",
    "    \"K411\",\n",
    "    sio2=>uv(0.5430,0.0020), feo=>uv(0.1442,0.0020), mgo=>uv(0.1467,0.0020), cao=>uv(0.1547,0.0020)\n",
    "))"
   ]
  },
  {
   "cell_type": "code",
   "execution_count": 101,
   "metadata": {},
   "outputs": [
    {
     "data": {
      "text/plain": [
       "Dict{MassFractionLabel,UncertainValue} with 6 entries:\n",
       "  C[Mg,K412] => 0.1166 ± 0.0012\n",
       "  C[Al,K412] => 0.04906 ± 0.0011\n",
       "  C[Fe,K412] => 0.07742 ± 0.0016\n",
       "  C[Si,K412] => 0.21198 ± 0.00093\n",
       "  C[Ca,K412] => 0.109 ± 0.0014\n",
       "  C[O,K412]  => 0.42758 ± 0.0018"
      ]
     },
     "execution_count": 101,
     "metadata": {},
     "output_type": "execute_result"
    }
   ],
   "source": [
    "al2o3=NeXLCore.af2comp(\"Al2O3\", Dict(n\"Al\"=>2,n\"O\"=>3))\n",
    "k412 =NeXLCore.mixture(\n",
    "    \"K412\",\n",
    "    sio2=>uv(0.4535,0.0020), feo=>uv(0.0996,0.0020), mgo=>uv(0.1933,0.0020), cao=>uv(0.1525,0.0020),al2o3=>uv(0.0927,0.0020)\n",
    ")\n",
    "NeXLUncertainties.extract(MassFractionLabel, k412)"
   ]
  },
  {
   "cell_type": "code",
   "execution_count": 110,
   "metadata": {},
   "outputs": [
    {
     "data": {
      "text/plain": [
       "Dict{MassFractionLabel,UncertainValue} with 6 entries:\n",
       "  C[Si,K412_2] => 0.21198 ± 0.00093\n",
       "  C[O,K412_2]  => 0.42756 ± 0.0018\n",
       "  C[Ca,K412_2] => 0.109 ± 0.0014\n",
       "  C[Al,K412_2] => 0.04907 ± 0.0011\n",
       "  C[Fe,K412_2] => 0.07741 ± 0.0016\n",
       "  C[Mg,K412_2] => 0.1165 ± 0.0012"
      ]
     },
     "execution_count": 110,
     "metadata": {},
     "output_type": "execute_result"
    }
   ],
   "source": [
    "function nameofmat(uvs)\n",
    "    lbls = labels(uvs)\n",
    "    lbl = lbls[findfirst(lbl->lbl isa MassFractionLabel, labels(uvs))]\n",
    "    @assert all(l->l.material==lbl.material, lbls)\n",
    "    return lbl.material\n",
    "end\n",
    "mix =  Dict(sio2=>uv(0.4535,0.0020), feo=>uv(0.0996,0.0020), mgo=>uv(0.1933,0.0020), cao=>uv(0.1525,0.0020),al2o3=>uv(0.0927,0.0020))\n",
    "mixes = NeXLUncertainties.uvs(Dict( NeXLCore.MaterialFractionLabel(\"K412_2\",nameofmat(us))=>uv for (us, uv) in mix))\n",
    "k412mc=mcpropagate(NeXLCore.MaterialMixture(\"K412_2\"), cat(mixes, (us for (us,uv) in mix)...),10000)\n",
    "NeXLUncertainties.extract(MassFractionLabel, k412mc)"
   ]
  }
 ],
 "metadata": {
  "kernelspec": {
   "display_name": "Julia (1 thread) 1.4.0",
   "language": "julia",
   "name": "julia-(1-thread)-1.4"
  },
  "language_info": {
   "file_extension": ".jl",
   "mimetype": "application/julia",
   "name": "julia",
   "version": "1.4.0"
  }
 },
 "nbformat": 4,
 "nbformat_minor": 4
}
